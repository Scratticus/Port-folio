{
 "cells": [
  {
   "cell_type": "code",
   "execution_count": 2,
   "metadata": {},
   "outputs": [],
   "source": [
    "import csv\n",
    "import pandas as pd\n",
    "import numpy as np\n",
    "import pickle\n",
    "\n",
    "from sklearn.linear_model import LogisticRegression\n",
    "from sklearn.svm import SVC\n",
    "from sklearn.metrics import make_scorer, accuracy_score, precision_score, recall_score, f1_score, r2_score, mean_squared_error, confusion_matrix\n",
    "from sklearn.neighbors import KNeighborsClassifier\n",
    "from sklearn.preprocessing import MaxAbsScaler\n",
    "from sklearn.tree import DecisionTreeClassifier\n",
    "from sklearn.ensemble import RandomForestClassifier\n",
    "from sklearn.naive_bayes import MultinomialNB\n",
    "from sklearn.ensemble import HistGradientBoostingClassifier\n",
    "from xgboost import XGBClassifier\n",
    "\n",
    "from sklearn.model_selection import cross_val_predict, cross_val_score, cross_validate\n",
    "from imblearn.metrics import classification_report_imbalanced\n",
    "from imblearn.under_sampling import RandomUnderSampler\n",
    "import matplotlib.pyplot as plt\n",
    "\n",
    "from scipy.stats import linregress\n",
    "import seaborn as sns\n",
    "from sklearn.model_selection import train_test_split\n",
    "\n",
    "from sklearn.metrics import classification_report, confusion_matrix, accuracy_score\n"
   ]
  },
  {
   "cell_type": "code",
   "execution_count": 3,
   "metadata": {},
   "outputs": [
    {
     "data": {
      "text/html": [
       "<div>\n",
       "<style scoped>\n",
       "    .dataframe tbody tr th:only-of-type {\n",
       "        vertical-align: middle;\n",
       "    }\n",
       "\n",
       "    .dataframe tbody tr th {\n",
       "        vertical-align: top;\n",
       "    }\n",
       "\n",
       "    .dataframe thead th {\n",
       "        text-align: right;\n",
       "    }\n",
       "</style>\n",
       "<table border=\"1\" class=\"dataframe\">\n",
       "  <thead>\n",
       "    <tr style=\"text-align: right;\">\n",
       "      <th></th>\n",
       "      <th>ability</th>\n",
       "      <th>able</th>\n",
       "      <th>absolute</th>\n",
       "      <th>absolutely</th>\n",
       "      <th>absorb</th>\n",
       "      <th>abuse</th>\n",
       "      <th>ac</th>\n",
       "      <th>accept</th>\n",
       "      <th>acceptable</th>\n",
       "      <th>accepted</th>\n",
       "      <th>...</th>\n",
       "      <th>yr</th>\n",
       "      <th>yuck</th>\n",
       "      <th>yucky</th>\n",
       "      <th>yup</th>\n",
       "      <th>zero</th>\n",
       "      <th>zip</th>\n",
       "      <th>ziplock</th>\n",
       "      <th>zipper</th>\n",
       "      <th>zone</th>\n",
       "      <th>overall.1</th>\n",
       "    </tr>\n",
       "  </thead>\n",
       "  <tbody>\n",
       "    <tr>\n",
       "      <th>0</th>\n",
       "      <td>0.0</td>\n",
       "      <td>0.0</td>\n",
       "      <td>0.0</td>\n",
       "      <td>0.0</td>\n",
       "      <td>0.0</td>\n",
       "      <td>0.0</td>\n",
       "      <td>0.0</td>\n",
       "      <td>0.0</td>\n",
       "      <td>0.0</td>\n",
       "      <td>0.0</td>\n",
       "      <td>...</td>\n",
       "      <td>0.0</td>\n",
       "      <td>0.0</td>\n",
       "      <td>0.0</td>\n",
       "      <td>0.0</td>\n",
       "      <td>0.0</td>\n",
       "      <td>0.0</td>\n",
       "      <td>0.0</td>\n",
       "      <td>0.0</td>\n",
       "      <td>0.0</td>\n",
       "      <td>5.0</td>\n",
       "    </tr>\n",
       "    <tr>\n",
       "      <th>1</th>\n",
       "      <td>0.0</td>\n",
       "      <td>0.0</td>\n",
       "      <td>0.0</td>\n",
       "      <td>0.0</td>\n",
       "      <td>0.0</td>\n",
       "      <td>0.0</td>\n",
       "      <td>0.0</td>\n",
       "      <td>0.0</td>\n",
       "      <td>0.0</td>\n",
       "      <td>0.0</td>\n",
       "      <td>...</td>\n",
       "      <td>0.0</td>\n",
       "      <td>0.0</td>\n",
       "      <td>0.0</td>\n",
       "      <td>0.0</td>\n",
       "      <td>0.0</td>\n",
       "      <td>0.0</td>\n",
       "      <td>0.0</td>\n",
       "      <td>0.0</td>\n",
       "      <td>0.0</td>\n",
       "      <td>5.0</td>\n",
       "    </tr>\n",
       "    <tr>\n",
       "      <th>2</th>\n",
       "      <td>0.0</td>\n",
       "      <td>0.0</td>\n",
       "      <td>0.0</td>\n",
       "      <td>0.0</td>\n",
       "      <td>0.0</td>\n",
       "      <td>0.0</td>\n",
       "      <td>0.0</td>\n",
       "      <td>0.0</td>\n",
       "      <td>0.0</td>\n",
       "      <td>0.0</td>\n",
       "      <td>...</td>\n",
       "      <td>0.0</td>\n",
       "      <td>0.0</td>\n",
       "      <td>0.0</td>\n",
       "      <td>0.0</td>\n",
       "      <td>0.0</td>\n",
       "      <td>0.0</td>\n",
       "      <td>0.0</td>\n",
       "      <td>0.0</td>\n",
       "      <td>0.0</td>\n",
       "      <td>5.0</td>\n",
       "    </tr>\n",
       "    <tr>\n",
       "      <th>3</th>\n",
       "      <td>1.0</td>\n",
       "      <td>0.0</td>\n",
       "      <td>0.0</td>\n",
       "      <td>0.0</td>\n",
       "      <td>0.0</td>\n",
       "      <td>0.0</td>\n",
       "      <td>0.0</td>\n",
       "      <td>0.0</td>\n",
       "      <td>0.0</td>\n",
       "      <td>0.0</td>\n",
       "      <td>...</td>\n",
       "      <td>0.0</td>\n",
       "      <td>0.0</td>\n",
       "      <td>0.0</td>\n",
       "      <td>0.0</td>\n",
       "      <td>0.0</td>\n",
       "      <td>0.0</td>\n",
       "      <td>0.0</td>\n",
       "      <td>0.0</td>\n",
       "      <td>0.0</td>\n",
       "      <td>5.0</td>\n",
       "    </tr>\n",
       "    <tr>\n",
       "      <th>4</th>\n",
       "      <td>1.0</td>\n",
       "      <td>0.0</td>\n",
       "      <td>0.0</td>\n",
       "      <td>0.0</td>\n",
       "      <td>0.0</td>\n",
       "      <td>0.0</td>\n",
       "      <td>0.0</td>\n",
       "      <td>0.0</td>\n",
       "      <td>0.0</td>\n",
       "      <td>0.0</td>\n",
       "      <td>...</td>\n",
       "      <td>0.0</td>\n",
       "      <td>0.0</td>\n",
       "      <td>0.0</td>\n",
       "      <td>0.0</td>\n",
       "      <td>0.0</td>\n",
       "      <td>0.0</td>\n",
       "      <td>0.0</td>\n",
       "      <td>0.0</td>\n",
       "      <td>0.0</td>\n",
       "      <td>5.0</td>\n",
       "    </tr>\n",
       "  </tbody>\n",
       "</table>\n",
       "<p>5 rows × 3932 columns</p>\n",
       "</div>"
      ],
      "text/plain": [
       "   ability  able  absolute  absolutely  absorb  abuse   ac  accept  \\\n",
       "0      0.0   0.0       0.0         0.0     0.0    0.0  0.0     0.0   \n",
       "1      0.0   0.0       0.0         0.0     0.0    0.0  0.0     0.0   \n",
       "2      0.0   0.0       0.0         0.0     0.0    0.0  0.0     0.0   \n",
       "3      1.0   0.0       0.0         0.0     0.0    0.0  0.0     0.0   \n",
       "4      1.0   0.0       0.0         0.0     0.0    0.0  0.0     0.0   \n",
       "\n",
       "   acceptable  accepted  ...   yr  yuck  yucky  yup  zero  zip  ziplock  \\\n",
       "0         0.0       0.0  ...  0.0   0.0    0.0  0.0   0.0  0.0      0.0   \n",
       "1         0.0       0.0  ...  0.0   0.0    0.0  0.0   0.0  0.0      0.0   \n",
       "2         0.0       0.0  ...  0.0   0.0    0.0  0.0   0.0  0.0      0.0   \n",
       "3         0.0       0.0  ...  0.0   0.0    0.0  0.0   0.0  0.0      0.0   \n",
       "4         0.0       0.0  ...  0.0   0.0    0.0  0.0   0.0  0.0      0.0   \n",
       "\n",
       "   zipper  zone  overall.1  \n",
       "0     0.0   0.0        5.0  \n",
       "1     0.0   0.0        5.0  \n",
       "2     0.0   0.0        5.0  \n",
       "3     0.0   0.0        5.0  \n",
       "4     0.0   0.0        5.0  \n",
       "\n",
       "[5 rows x 3932 columns]"
      ]
     },
     "metadata": {},
     "output_type": "display_data"
    }
   ],
   "source": [
    "df = pd.read_csv(\"../../../data/processed/lem_stem_4000_best_features.csv\")\n",
    "\n",
    "display(df.head())\n"
   ]
  },
  {
   "cell_type": "code",
   "execution_count": 3,
   "metadata": {},
   "outputs": [
    {
     "name": "stdout",
     "output_type": "stream",
     "text": [
      "(602453, 3931)\n",
      "(602453,)\n"
     ]
    }
   ],
   "source": [
    "df = df.dropna(subset='overall.1')\n",
    "\n",
    "features = df.iloc[:, :-1]\n",
    "target = df.iloc[:, -1]\n",
    "\n",
    "print(features.shape)\n",
    "print(target.shape)"
   ]
  },
  {
   "cell_type": "code",
   "execution_count": 4,
   "metadata": {},
   "outputs": [
    {
     "data": {
      "text/plain": [
       "0"
      ]
     },
     "execution_count": 4,
     "metadata": {},
     "output_type": "execute_result"
    }
   ],
   "source": [
    "target.isna().sum()"
   ]
  },
  {
   "cell_type": "code",
   "execution_count": 5,
   "metadata": {},
   "outputs": [],
   "source": [
    "features = features.fillna(0)\n",
    "\n",
    "X_train, X_test, y_train, y_test = train_test_split(features, target, test_size=0.3, random_state=42)"
   ]
  },
  {
   "cell_type": "code",
   "execution_count": 17,
   "metadata": {},
   "outputs": [],
   "source": [
    "logistic_model = LogisticRegression(solver='saga')\n",
    "logistic_model.fit(X_train, y_train)\n"
   ]
  },
  {
   "cell_type": "code",
   "execution_count": null,
   "metadata": {},
   "outputs": [],
   "source": [
    "log_y_pred_train = logistic_model.predict(X_train)\n",
    "log_y_pred_test = logistic_model.predict(X_test)"
   ]
  },
  {
   "cell_type": "code",
   "execution_count": null,
   "metadata": {},
   "outputs": [],
   "source": [
    "logistic_report_train = classification_report_imbalanced(y_train, log_y_pred_train)\n",
    "logistic_report_test = classification_report_imbalanced(y_test, log_y_pred_test)\n",
    "print(logistic_report_train)\n",
    "print(logistic_report_test)\n"
   ]
  },
  {
   "cell_type": "code",
   "execution_count": null,
   "metadata": {},
   "outputs": [],
   "source": [
    "accuracy_train_logistic = accuracy_score(y_train, log_y_pred_train)\n",
    "precision_train_logistic = precision_score(y_train, log_y_pred_train, average='weighted')\n",
    "recall_train_logistic = recall_score(y_train, log_y_pred_train, average='weighted')\n",
    "f1_train_logistic = f1_score(y_train, log_y_pred_train, average='weighted')\n",
    "r2_train_logistic = r2_score(y_train, log_y_pred_train)\n",
    "mse_train_logistic = mean_squared_error(y_train, log_y_pred_train)\n",
    "\n",
    "accuracy_test_logistic = accuracy_score(y_test, log_y_pred_test)\n",
    "precision_test_logistic = precision_score(y_test, log_y_pred_test, average='weighted')\n",
    "recall_test_logistic = recall_score(y_test, log_y_pred_test, average='weighted')\n",
    "f1_test_logistic = f1_score(y_test, log_y_pred_test, average='weighted')\n",
    "r2_test_logistic = r2_score(y_test, log_y_pred_test)\n",
    "mse_test_logistic = mean_squared_error(y_test, log_y_pred_test)\n",
    "\n",
    "print('Train Results')\n",
    "print(\"Accuracy Score: Logistic Regression Train Data (Feature Reduction):\", accuracy_train_logistic)\n",
    "print(\"Precision Score: Logistic Regression Train Data (Feature Reduction):\", precision_train_logistic)\n",
    "print(\"Recall Score: Logistic Regression Train Data (Feature Reduction):\", recall_train_logistic)\n",
    "print(\"F1 Score: Logistic Regression Train Data (Feature Reduction):\", f1_train_logistic)\n",
    "print(\"R Squared Score: Logistic Regression Train Data (Feature Reduction):\", r2_train_logistic)\n",
    "print(\"Mean Squared Error Score: Logistic Regression Train Data (Feature Reduction):\", mse_train_logistic)\n",
    "print()\n",
    "print('Test Results')\n",
    "print(\"Accuracy Score: Logistic Regression Test Data (Feature Reduction):\", accuracy_test_logistic)\n",
    "print(\"Precision Score: Logistic Regression Test Data (Feature Reduction):\", precision_test_logistic)\n",
    "print(\"Recall Score: Logistic Regression Test Data (Feature Reduction):\", recall_test_logistic)\n",
    "print(\"F1 Score: Logistic Regression Test Data (Feature Reduction):\", f1_test_logistic)\n",
    "print(\"R Squared Score: Logistic Regression Test Data (Feature Reduction):\", r2_test_logistic)\n",
    "print(\"Mean Squared Error Score: Logistic Regression Test Data (Feature Reduction):\", mse_test_logistic)"
   ]
  },
  {
   "cell_type": "code",
   "execution_count": null,
   "metadata": {},
   "outputs": [],
   "source": [
    "# Calculate confusion matrix\n",
    "plt.figure(figsize=(8, 4))\n",
    "\n",
    "# Calculate confusion matrix\n",
    "cm = confusion_matrix(y_train, log_y_pred_train)\n",
    "\n",
    "print(cm)\n",
    "\n",
    "# Plotting Confusion Matrix using imshow\n",
    "plt.subplot(1, 2, 1)\n",
    "plt.imshow(cm, interpolation='nearest', cmap=plt.cm.Blues, vmin = 0, vmax = 30000)\n",
    "\n",
    "# Adding annotations\n",
    "for i in range(len(cm)):\n",
    "    for j in range(len(cm[0])):\n",
    "        plt.text(j, i, str(cm[i, j]), ha='center', va='center', fontsize=7)\n",
    "\n",
    "plt.xticks(np.arange(5), ['1', '2', '3', '4', '5'], fontsize=7)\n",
    "plt.yticks(np.arange(5), ['1', '2', '3', '4', '5'], fontsize=7)\n",
    "plt.xlabel('Predicted', fontsize=9)\n",
    "plt.ylabel('Actual', fontsize=9)\n",
    "plt.title(f'Confusion Matrix Logistic Regression Feature Reduced Train Data', fontsize=10)\n",
    "\n",
    "cm = confusion_matrix(y_test, log_y_pred_test)\n",
    "\n",
    "print(cm)\n",
    "plt.subplot(1, 2, 2)\n",
    "plt.imshow(cm, interpolation='nearest', cmap=plt.cm.Blues, vmin = 0, vmax = 30000)\n",
    "\n",
    "# Adding annotations\n",
    "for i in range(len(cm)):\n",
    "    for j in range(len(cm[0])):\n",
    "        plt.text(j, i, str(cm[i, j]), ha='center', va='center', fontsize=7)\n",
    "\n",
    "plt.xticks(np.arange(5), ['1', '2', '3', '4', '5'], fontsize=7)\n",
    "plt.yticks(np.arange(5), ['1', '2', '3', '4', '5'], fontsize=7)\n",
    "plt.xlabel('Predicted', fontsize=9)\n",
    "plt.ylabel('Actual', fontsize=9)\n",
    "\n",
    "plt.title(f'Confusion Matrix Logistic Regression Feature Reduced Test Data', fontsize=10)\n",
    "plt.tight_layout()\n",
    "# plt.savefig('../../images/logisticFeatRedConfMatrix.png')\n",
    "plt.show()"
   ]
  },
  {
   "cell_type": "code",
   "execution_count": 6,
   "metadata": {},
   "outputs": [
    {
     "data": {
      "text/html": [
       "<style>#sk-container-id-1 {color: black;}#sk-container-id-1 pre{padding: 0;}#sk-container-id-1 div.sk-toggleable {background-color: white;}#sk-container-id-1 label.sk-toggleable__label {cursor: pointer;display: block;width: 100%;margin-bottom: 0;padding: 0.3em;box-sizing: border-box;text-align: center;}#sk-container-id-1 label.sk-toggleable__label-arrow:before {content: \"▸\";float: left;margin-right: 0.25em;color: #696969;}#sk-container-id-1 label.sk-toggleable__label-arrow:hover:before {color: black;}#sk-container-id-1 div.sk-estimator:hover label.sk-toggleable__label-arrow:before {color: black;}#sk-container-id-1 div.sk-toggleable__content {max-height: 0;max-width: 0;overflow: hidden;text-align: left;background-color: #f0f8ff;}#sk-container-id-1 div.sk-toggleable__content pre {margin: 0.2em;color: black;border-radius: 0.25em;background-color: #f0f8ff;}#sk-container-id-1 input.sk-toggleable__control:checked~div.sk-toggleable__content {max-height: 200px;max-width: 100%;overflow: auto;}#sk-container-id-1 input.sk-toggleable__control:checked~label.sk-toggleable__label-arrow:before {content: \"▾\";}#sk-container-id-1 div.sk-estimator input.sk-toggleable__control:checked~label.sk-toggleable__label {background-color: #d4ebff;}#sk-container-id-1 div.sk-label input.sk-toggleable__control:checked~label.sk-toggleable__label {background-color: #d4ebff;}#sk-container-id-1 input.sk-hidden--visually {border: 0;clip: rect(1px 1px 1px 1px);clip: rect(1px, 1px, 1px, 1px);height: 1px;margin: -1px;overflow: hidden;padding: 0;position: absolute;width: 1px;}#sk-container-id-1 div.sk-estimator {font-family: monospace;background-color: #f0f8ff;border: 1px dotted black;border-radius: 0.25em;box-sizing: border-box;margin-bottom: 0.5em;}#sk-container-id-1 div.sk-estimator:hover {background-color: #d4ebff;}#sk-container-id-1 div.sk-parallel-item::after {content: \"\";width: 100%;border-bottom: 1px solid gray;flex-grow: 1;}#sk-container-id-1 div.sk-label:hover label.sk-toggleable__label {background-color: #d4ebff;}#sk-container-id-1 div.sk-serial::before {content: \"\";position: absolute;border-left: 1px solid gray;box-sizing: border-box;top: 0;bottom: 0;left: 50%;z-index: 0;}#sk-container-id-1 div.sk-serial {display: flex;flex-direction: column;align-items: center;background-color: white;padding-right: 0.2em;padding-left: 0.2em;position: relative;}#sk-container-id-1 div.sk-item {position: relative;z-index: 1;}#sk-container-id-1 div.sk-parallel {display: flex;align-items: stretch;justify-content: center;background-color: white;position: relative;}#sk-container-id-1 div.sk-item::before, #sk-container-id-1 div.sk-parallel-item::before {content: \"\";position: absolute;border-left: 1px solid gray;box-sizing: border-box;top: 0;bottom: 0;left: 50%;z-index: -1;}#sk-container-id-1 div.sk-parallel-item {display: flex;flex-direction: column;z-index: 1;position: relative;background-color: white;}#sk-container-id-1 div.sk-parallel-item:first-child::after {align-self: flex-end;width: 50%;}#sk-container-id-1 div.sk-parallel-item:last-child::after {align-self: flex-start;width: 50%;}#sk-container-id-1 div.sk-parallel-item:only-child::after {width: 0;}#sk-container-id-1 div.sk-dashed-wrapped {border: 1px dashed gray;margin: 0 0.4em 0.5em 0.4em;box-sizing: border-box;padding-bottom: 0.4em;background-color: white;}#sk-container-id-1 div.sk-label label {font-family: monospace;font-weight: bold;display: inline-block;line-height: 1.2em;}#sk-container-id-1 div.sk-label-container {text-align: center;}#sk-container-id-1 div.sk-container {/* jupyter's `normalize.less` sets `[hidden] { display: none; }` but bootstrap.min.css set `[hidden] { display: none !important; }` so we also need the `!important` here to be able to override the default hidden behavior on the sphinx rendered scikit-learn.org. See: https://github.com/scikit-learn/scikit-learn/issues/21755 */display: inline-block !important;position: relative;}#sk-container-id-1 div.sk-text-repr-fallback {display: none;}</style><div id=\"sk-container-id-1\" class=\"sk-top-container\"><div class=\"sk-text-repr-fallback\"><pre>RandomForestClassifier(n_estimators=200, n_jobs=-1)</pre><b>In a Jupyter environment, please rerun this cell to show the HTML representation or trust the notebook. <br />On GitHub, the HTML representation is unable to render, please try loading this page with nbviewer.org.</b></div><div class=\"sk-container\" hidden><div class=\"sk-item\"><div class=\"sk-estimator sk-toggleable\"><input class=\"sk-toggleable__control sk-hidden--visually\" id=\"sk-estimator-id-1\" type=\"checkbox\" checked><label for=\"sk-estimator-id-1\" class=\"sk-toggleable__label sk-toggleable__label-arrow\">RandomForestClassifier</label><div class=\"sk-toggleable__content\"><pre>RandomForestClassifier(n_estimators=200, n_jobs=-1)</pre></div></div></div></div></div>"
      ],
      "text/plain": [
       "RandomForestClassifier(n_estimators=200, n_jobs=-1)"
      ]
     },
     "execution_count": 6,
     "metadata": {},
     "output_type": "execute_result"
    }
   ],
   "source": [
    "rf_model = RandomForestClassifier(max_depth=None, min_samples_leaf=1, min_samples_split=2, n_estimators=200, n_jobs=-1)\n",
    "rf_model.fit(X_train, y_train)"
   ]
  },
  {
   "cell_type": "code",
   "execution_count": 7,
   "metadata": {},
   "outputs": [],
   "source": [
    "rf_y_pred_train = rf_model.predict(X_train)\n",
    "rf_y_pred_test = rf_model.predict(X_test)"
   ]
  },
  {
   "cell_type": "code",
   "execution_count": 8,
   "metadata": {},
   "outputs": [
    {
     "name": "stdout",
     "output_type": "stream",
     "text": [
      "                   pre       rec       spe        f1       geo       iba       sup\n",
      "\n",
      "        1.0       0.98      0.75      1.00      0.85      0.86      0.73     41732\n",
      "        2.0       0.98      0.74      1.00      0.85      0.86      0.73     14482\n",
      "        3.0       0.98      0.75      1.00      0.85      0.87      0.73     21500\n",
      "        4.0       0.98      0.75      1.00      0.85      0.86      0.72     52912\n",
      "        5.0       0.90      1.00      0.76      0.95      0.87      0.77    291091\n",
      "\n",
      "avg / total       0.93      0.92      0.83      0.92      0.87      0.76    421717\n",
      "\n",
      "                   pre       rec       spe        f1       geo       iba       sup\n",
      "\n",
      "        1.0       0.16      0.02      0.99      0.03      0.12      0.01     17878\n",
      "        2.0       0.05      0.00      1.00      0.01      0.06      0.00      6247\n",
      "        3.0       0.19      0.02      1.00      0.03      0.13      0.02      9142\n",
      "        4.0       0.15      0.02      0.99      0.03      0.13      0.01     22527\n",
      "        5.0       0.69      0.97      0.03      0.81      0.18      0.04    124942\n",
      "\n",
      "avg / total       0.53      0.68      0.33      0.57      0.16      0.03    180736\n",
      "\n"
     ]
    }
   ],
   "source": [
    "rf_report_train = classification_report_imbalanced(y_train, rf_y_pred_train)\n",
    "rf_report_test = classification_report_imbalanced(y_test, rf_y_pred_test)\n",
    "print(rf_report_train)\n",
    "print(rf_report_test)\n"
   ]
  },
  {
   "cell_type": "code",
   "execution_count": 9,
   "metadata": {},
   "outputs": [
    {
     "name": "stdout",
     "output_type": "stream",
     "text": [
      "Train Results\n",
      "Accuracy Score: Random Forest Train Data (Feature Reduction): 0.9196902187960172\n",
      "Precision Score: Random Forest Train Data (Feature Reduction): 0.9255574460174684\n",
      "Recall Score: Random Forest Train Data (Feature Reduction): 0.9196902187960172\n",
      "F1 Score: Logistic Random Forest Data (Feature Reduction): 0.9160528731017505\n",
      "R Squared Score: Random Forest Train Data (Feature Reduction): 0.6660264175140299\n",
      "Mean Squared Error Score: Random Forest Train Data (Feature Reduction): 0.5658486615431676\n",
      "\n",
      "Test Results\n",
      "Accuracy Score: Random Forest Test Data (Feature Reduction): 0.6768712376062322\n",
      "Precision Score: Random Forest Test Data (Feature Reduction): 0.5254559179116931\n",
      "Recall Score: Random Forest Test Data (Feature Reduction): 0.6768712376062322\n",
      "F1 Score: Random Forest Test Data (Feature Reduction): 0.5676448671947781\n",
      "R Squared Score: Random Forest Test Data (Feature Reduction): -0.3567593811488696\n",
      "Mean Squared Error Score: Random Forest Test Data (Feature Reduction): 2.2995197415014164\n"
     ]
    }
   ],
   "source": [
    "accuracy_train_rf = accuracy_score(y_train, rf_y_pred_train)\n",
    "precision_train_rf = precision_score(y_train, rf_y_pred_train, average='weighted')\n",
    "recall_train_rf = recall_score(y_train, rf_y_pred_train, average='weighted')\n",
    "f1_train_rf = f1_score(y_train, rf_y_pred_train, average='weighted')\n",
    "r2_train_rf = r2_score(y_train, rf_y_pred_train)\n",
    "mse_train_rf = mean_squared_error(y_train, rf_y_pred_train)\n",
    "\n",
    "accuracy_test_rf = accuracy_score(y_test, rf_y_pred_test)\n",
    "precision_test_rf = precision_score(y_test, rf_y_pred_test, average='weighted')\n",
    "recall_test_rf = recall_score(y_test, rf_y_pred_test, average='weighted')\n",
    "f1_test_rf = f1_score(y_test, rf_y_pred_test, average='weighted')\n",
    "r2_test_rf = r2_score(y_test, rf_y_pred_test)\n",
    "mse_test_rf = mean_squared_error(y_test, rf_y_pred_test)\n",
    "\n",
    "print('Train Results')\n",
    "print(\"Accuracy Score: Random Forest Train Data (Feature Reduction):\", accuracy_train_rf)\n",
    "print(\"Precision Score: Random Forest Train Data (Feature Reduction):\", precision_train_rf)\n",
    "print(\"Recall Score: Random Forest Train Data (Feature Reduction):\", recall_train_rf)\n",
    "print(\"F1 Score: Logistic Random Forest Data (Feature Reduction):\", f1_train_rf)\n",
    "print(\"R Squared Score: Random Forest Train Data (Feature Reduction):\", r2_train_rf)\n",
    "print(\"Mean Squared Error Score: Random Forest Train Data (Feature Reduction):\", mse_train_rf)\n",
    "print()\n",
    "print('Test Results')\n",
    "print(\"Accuracy Score: Random Forest Test Data (Feature Reduction):\", accuracy_test_rf)\n",
    "print(\"Precision Score: Random Forest Test Data (Feature Reduction):\", precision_test_rf)\n",
    "print(\"Recall Score: Random Forest Test Data (Feature Reduction):\", recall_test_rf)\n",
    "print(\"F1 Score: Random Forest Test Data (Feature Reduction):\", f1_test_rf)\n",
    "print(\"R Squared Score: Random Forest Test Data (Feature Reduction):\", r2_test_rf)\n",
    "print(\"Mean Squared Error Score: Random Forest Test Data (Feature Reduction):\", mse_test_rf)"
   ]
  },
  {
   "cell_type": "code",
   "execution_count": 10,
   "metadata": {},
   "outputs": [
    {
     "name": "stdout",
     "output_type": "stream",
     "text": [
      "[[ 31184     51     72    221  10204]\n",
      " [    81  10781     36     83   3501]\n",
      " [    84     25  16171    146   5074]\n",
      " [   192     44     86  39445  13145]\n",
      " [   238     57     97    431 290268]]\n",
      "[[   281     59     70    220  17248]\n",
      " [    77     20     24     75   6051]\n",
      " [    97     13    159    111   8762]\n",
      " [   183     48     99    363  21834]\n",
      " [  1075    262    492   1601 121512]]\n"
     ]
    },
    {
     "data": {
      "image/png": "[encoded data removed]",
      "text/plain": [
       "<Figure size 800x400 with 2 Axes>"
      ]
     },
     "metadata": {},
     "output_type": "display_data"
    }
   ],
   "source": [
    "# Calculate confusion matrix\n",
    "plt.figure(figsize=(8, 4))\n",
    "\n",
    "# Calculate confusion matrix\n",
    "cm = confusion_matrix(y_train, rf_y_pred_train)\n",
    "\n",
    "print(cm)\n",
    "\n",
    "# Plotting Confusion Matrix using imshow\n",
    "plt.subplot(1, 2, 1)\n",
    "plt.imshow(cm, interpolation='nearest', cmap=plt.cm.Blues, vmin = 0, vmax = 30000)\n",
    "\n",
    "# Adding annotations\n",
    "for i in range(len(cm)):\n",
    "    for j in range(len(cm[0])):\n",
    "        plt.text(j, i, str(cm[i, j]), ha='center', va='center', fontsize=7)\n",
    "\n",
    "plt.xticks(np.arange(5), ['1', '2', '3', '4', '5'], fontsize=7)\n",
    "plt.yticks(np.arange(5), ['1', '2', '3', '4', '5'], fontsize=7)\n",
    "plt.xlabel('Predicted', fontsize=9)\n",
    "plt.ylabel('Actual', fontsize=9)\n",
    "plt.title(f'Confusion Matrix Random Forest Feature Reduced Train Data', fontsize=10)\n",
    "\n",
    "cm = confusion_matrix(y_test, rf_y_pred_test)\n",
    "\n",
    "print(cm)\n",
    "plt.subplot(1, 2, 2)\n",
    "plt.imshow(cm, interpolation='nearest', cmap=plt.cm.Blues, vmin = 0, vmax = 30000)\n",
    "\n",
    "# Adding annotations\n",
    "for i in range(len(cm)):\n",
    "    for j in range(len(cm[0])):\n",
    "        plt.text(j, i, str(cm[i, j]), ha='center', va='center', fontsize=7)\n",
    "\n",
    "plt.xticks(np.arange(5), ['1', '2', '3', '4', '5'], fontsize=7)\n",
    "plt.yticks(np.arange(5), ['1', '2', '3', '4', '5'], fontsize=7)\n",
    "plt.xlabel('Predicted', fontsize=9)\n",
    "plt.ylabel('Actual', fontsize=9)\n",
    "\n",
    "plt.title(f'Confusion Matrix Random Forest Feature Reduced Test Data', fontsize=10)\n",
    "plt.tight_layout()\n",
    "# plt.savefig('../../images/RFBestFeatRedConfMatrix.png')\n",
    "plt.show()"
   ]
  },
  {
   "cell_type": "code",
   "execution_count": 21,
   "metadata": {},
   "outputs": [
    {
     "name": "stderr",
     "output_type": "stream",
     "text": [
      "c:\\Users\\Scratticus\\AppData\\Local\\Programs\\Python\\Python311\\Lib\\site-packages\\sklearn\\base.py:458: UserWarning: X has feature names, but RandomForestClassifier was fitted without feature names\n",
      "  warnings.warn(\n"
     ]
    },
    {
     "ename": "ValueError",
     "evalue": "X has 1 features, but RandomForestClassifier is expecting 26779 features as input.",
     "output_type": "error",
     "traceback": [
      "\u001b[1;31m---------------------------------------------------------------------------\u001b[0m",
      "\u001b[1;31mValueError\u001b[0m                                Traceback (most recent call last)",
      "\u001b[1;32mc:\\Documents\\GitHub\\amazon_review\\notebooks\\Classification\\FeatureReducedClassification.ipynb Cell 16\u001b[0m line \u001b[0;36m1\n\u001b[0;32m     <a href='vscode-notebook-cell:/c%3A/Documents/GitHub/amazon_review/notebooks/Classification/FeatureReducedClassification.ipynb#X23sZmlsZQ%3D%3D?line=14'>15</a>\u001b[0m cv_review \u001b[39m=\u001b[39m vectorizer\u001b[39m.\u001b[39mfit_transform(lem_review)\n\u001b[0;32m     <a href='vscode-notebook-cell:/c%3A/Documents/GitHub/amazon_review/notebooks/Classification/FeatureReducedClassification.ipynb#X23sZmlsZQ%3D%3D?line=15'>16</a>\u001b[0m review_features \u001b[39m=\u001b[39m pd\u001b[39m.\u001b[39mDataFrame(cv_review\u001b[39m.\u001b[39mtoarray(), columns\u001b[39m=\u001b[39mvectorizer\u001b[39m.\u001b[39mget_feature_names_out())\n\u001b[1;32m---> <a href='vscode-notebook-cell:/c%3A/Documents/GitHub/amazon_review/notebooks/Classification/FeatureReducedClassification.ipynb#X23sZmlsZQ%3D%3D?line=16'>17</a>\u001b[0m user_result \u001b[39m=\u001b[39m best_rf_model\u001b[39m.\u001b[39;49mpredict(review_features)\n\u001b[0;32m     <a href='vscode-notebook-cell:/c%3A/Documents/GitHub/amazon_review/notebooks/Classification/FeatureReducedClassification.ipynb#X23sZmlsZQ%3D%3D?line=17'>18</a>\u001b[0m review_confidence \u001b[39m=\u001b[39m best_rf_model\u001b[39m.\u001b[39mpredict_proba(review_features)\n\u001b[0;32m     <a href='vscode-notebook-cell:/c%3A/Documents/GitHub/amazon_review/notebooks/Classification/FeatureReducedClassification.ipynb#X23sZmlsZQ%3D%3D?line=18'>19</a>\u001b[0m \u001b[39mprint\u001b[39m(\u001b[39m'\u001b[39m\u001b[39mModel Prediction\u001b[39m\u001b[39m'\u001b[39m)\n",
      "File \u001b[1;32mc:\\Users\\Scratticus\\AppData\\Local\\Programs\\Python\\Python311\\Lib\\site-packages\\sklearn\\ensemble\\_forest.py:823\u001b[0m, in \u001b[0;36mForestClassifier.predict\u001b[1;34m(self, X)\u001b[0m\n\u001b[0;32m    802\u001b[0m \u001b[39mdef\u001b[39;00m \u001b[39mpredict\u001b[39m(\u001b[39mself\u001b[39m, X):\n\u001b[0;32m    803\u001b[0m \u001b[39m    \u001b[39m\u001b[39m\"\"\"\u001b[39;00m\n\u001b[0;32m    804\u001b[0m \u001b[39m    Predict class for X.\u001b[39;00m\n\u001b[0;32m    805\u001b[0m \n\u001b[1;32m   (...)\u001b[0m\n\u001b[0;32m    821\u001b[0m \u001b[39m        The predicted classes.\u001b[39;00m\n\u001b[0;32m    822\u001b[0m \u001b[39m    \"\"\"\u001b[39;00m\n\u001b[1;32m--> 823\u001b[0m     proba \u001b[39m=\u001b[39m \u001b[39mself\u001b[39;49m\u001b[39m.\u001b[39;49mpredict_proba(X)\n\u001b[0;32m    825\u001b[0m     \u001b[39mif\u001b[39;00m \u001b[39mself\u001b[39m\u001b[39m.\u001b[39mn_outputs_ \u001b[39m==\u001b[39m \u001b[39m1\u001b[39m:\n\u001b[0;32m    826\u001b[0m         \u001b[39mreturn\u001b[39;00m \u001b[39mself\u001b[39m\u001b[39m.\u001b[39mclasses_\u001b[39m.\u001b[39mtake(np\u001b[39m.\u001b[39margmax(proba, axis\u001b[39m=\u001b[39m\u001b[39m1\u001b[39m), axis\u001b[39m=\u001b[39m\u001b[39m0\u001b[39m)\n",
      "File \u001b[1;32mc:\\Users\\Scratticus\\AppData\\Local\\Programs\\Python\\Python311\\Lib\\site-packages\\sklearn\\ensemble\\_forest.py:865\u001b[0m, in \u001b[0;36mForestClassifier.predict_proba\u001b[1;34m(self, X)\u001b[0m\n\u001b[0;32m    863\u001b[0m check_is_fitted(\u001b[39mself\u001b[39m)\n\u001b[0;32m    864\u001b[0m \u001b[39m# Check data\u001b[39;00m\n\u001b[1;32m--> 865\u001b[0m X \u001b[39m=\u001b[39m \u001b[39mself\u001b[39;49m\u001b[39m.\u001b[39;49m_validate_X_predict(X)\n\u001b[0;32m    867\u001b[0m \u001b[39m# Assign chunk of trees to jobs\u001b[39;00m\n\u001b[0;32m    868\u001b[0m n_jobs, _, _ \u001b[39m=\u001b[39m _partition_estimators(\u001b[39mself\u001b[39m\u001b[39m.\u001b[39mn_estimators, \u001b[39mself\u001b[39m\u001b[39m.\u001b[39mn_jobs)\n",
      "File \u001b[1;32mc:\\Users\\Scratticus\\AppData\\Local\\Programs\\Python\\Python311\\Lib\\site-packages\\sklearn\\ensemble\\_forest.py:599\u001b[0m, in \u001b[0;36mBaseForest._validate_X_predict\u001b[1;34m(self, X)\u001b[0m\n\u001b[0;32m    596\u001b[0m \u001b[39m\u001b[39m\u001b[39m\"\"\"\u001b[39;00m\n\u001b[0;32m    597\u001b[0m \u001b[39mValidate X whenever one tries to predict, apply, predict_proba.\"\"\"\u001b[39;00m\n\u001b[0;32m    598\u001b[0m check_is_fitted(\u001b[39mself\u001b[39m)\n\u001b[1;32m--> 599\u001b[0m X \u001b[39m=\u001b[39m \u001b[39mself\u001b[39;49m\u001b[39m.\u001b[39;49m_validate_data(X, dtype\u001b[39m=\u001b[39;49mDTYPE, accept_sparse\u001b[39m=\u001b[39;49m\u001b[39m\"\u001b[39;49m\u001b[39mcsr\u001b[39;49m\u001b[39m\"\u001b[39;49m, reset\u001b[39m=\u001b[39;49m\u001b[39mFalse\u001b[39;49;00m)\n\u001b[0;32m    600\u001b[0m \u001b[39mif\u001b[39;00m issparse(X) \u001b[39mand\u001b[39;00m (X\u001b[39m.\u001b[39mindices\u001b[39m.\u001b[39mdtype \u001b[39m!=\u001b[39m np\u001b[39m.\u001b[39mintc \u001b[39mor\u001b[39;00m X\u001b[39m.\u001b[39mindptr\u001b[39m.\u001b[39mdtype \u001b[39m!=\u001b[39m np\u001b[39m.\u001b[39mintc):\n\u001b[0;32m    601\u001b[0m     \u001b[39mraise\u001b[39;00m \u001b[39mValueError\u001b[39;00m(\u001b[39m\"\u001b[39m\u001b[39mNo support for np.int64 index based sparse matrices\u001b[39m\u001b[39m\"\u001b[39m)\n",
      "File \u001b[1;32mc:\\Users\\Scratticus\\AppData\\Local\\Programs\\Python\\Python311\\Lib\\site-packages\\sklearn\\base.py:626\u001b[0m, in \u001b[0;36mBaseEstimator._validate_data\u001b[1;34m(self, X, y, reset, validate_separately, cast_to_ndarray, **check_params)\u001b[0m\n\u001b[0;32m    623\u001b[0m     out \u001b[39m=\u001b[39m X, y\n\u001b[0;32m    625\u001b[0m \u001b[39mif\u001b[39;00m \u001b[39mnot\u001b[39;00m no_val_X \u001b[39mand\u001b[39;00m check_params\u001b[39m.\u001b[39mget(\u001b[39m\"\u001b[39m\u001b[39mensure_2d\u001b[39m\u001b[39m\"\u001b[39m, \u001b[39mTrue\u001b[39;00m):\n\u001b[1;32m--> 626\u001b[0m     \u001b[39mself\u001b[39;49m\u001b[39m.\u001b[39;49m_check_n_features(X, reset\u001b[39m=\u001b[39;49mreset)\n\u001b[0;32m    628\u001b[0m \u001b[39mreturn\u001b[39;00m out\n",
      "File \u001b[1;32mc:\\Users\\Scratticus\\AppData\\Local\\Programs\\Python\\Python311\\Lib\\site-packages\\sklearn\\base.py:415\u001b[0m, in \u001b[0;36mBaseEstimator._check_n_features\u001b[1;34m(self, X, reset)\u001b[0m\n\u001b[0;32m    412\u001b[0m     \u001b[39mreturn\u001b[39;00m\n\u001b[0;32m    414\u001b[0m \u001b[39mif\u001b[39;00m n_features \u001b[39m!=\u001b[39m \u001b[39mself\u001b[39m\u001b[39m.\u001b[39mn_features_in_:\n\u001b[1;32m--> 415\u001b[0m     \u001b[39mraise\u001b[39;00m \u001b[39mValueError\u001b[39;00m(\n\u001b[0;32m    416\u001b[0m         \u001b[39mf\u001b[39m\u001b[39m\"\u001b[39m\u001b[39mX has \u001b[39m\u001b[39m{\u001b[39;00mn_features\u001b[39m}\u001b[39;00m\u001b[39m features, but \u001b[39m\u001b[39m{\u001b[39;00m\u001b[39mself\u001b[39m\u001b[39m.\u001b[39m\u001b[39m__class__\u001b[39m\u001b[39m.\u001b[39m\u001b[39m__name__\u001b[39m\u001b[39m}\u001b[39;00m\u001b[39m \u001b[39m\u001b[39m\"\u001b[39m\n\u001b[0;32m    417\u001b[0m         \u001b[39mf\u001b[39m\u001b[39m\"\u001b[39m\u001b[39mis expecting \u001b[39m\u001b[39m{\u001b[39;00m\u001b[39mself\u001b[39m\u001b[39m.\u001b[39mn_features_in_\u001b[39m}\u001b[39;00m\u001b[39m features as input.\u001b[39m\u001b[39m\"\u001b[39m\n\u001b[0;32m    418\u001b[0m     )\n",
      "\u001b[1;31mValueError\u001b[0m: X has 1 features, but RandomForestClassifier is expecting 26779 features as input."
     ]
    }
   ],
   "source": [
    "import sys\n",
    "sys.path.append('../data_cleaning/lem_stem_functions')\n",
    "\n",
    "from text_functions_new_vocabs_ac import new_column_lemmatizer\n",
    "\n",
    "from sklearn.feature_extraction.text import CountVectorizer\n",
    "\n",
    "with open(\"../Classification/RFBestModel.pkl\", \"rb\") as file:\n",
    "    best_rf_model = pickle.load(file)\n",
    "\n",
    "vectorizer = CountVectorizer()\n",
    "\n",
    "user_review = pd.Series([input()])\n",
    "\n",
    "lem_review = new_column_lemmatizer(user_review)\n",
    "cv_review = vectorizer.fit_transform(lem_review)\n",
    "review_features = pd.DataFrame(cv_review.toarray(), columns=vectorizer.get_feature_names_out())\n",
    "user_result = best_rf_model.predict(review_features)\n",
    "review_confidence = best_rf_model.predict_proba(review_features)\n",
    "print('Model Prediction')\n",
    "print(f'Class: {user_result}')\n",
    "print(f'Confidence: {review_confidence}')"
   ]
  }
 ],
 "metadata": {
  "kernelspec": {
   "display_name": "Python 3",
   "language": "python",
   "name": "python3"
  },
  "language_info": {
   "codemirror_mode": {
    "name": "ipython",
    "version": 3
   },
   "file_extension": ".py",
   "mimetype": "text/x-python",
   "name": "python",
   "nbconvert_exporter": "python",
   "pygments_lexer": "ipython3",
   "version": "3.11.4"
  }
 },
 "nbformat": 4,
 "nbformat_minor": 2
}
