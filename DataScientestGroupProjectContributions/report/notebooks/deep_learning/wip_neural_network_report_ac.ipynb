{
 "cells": [
  {
   "cell_type": "code",
   "execution_count": 1,
   "metadata": {},
   "outputs": [],
   "source": [
    "import sys\n",
    "sys.path.append('../data_cleaning/lem_stem_functions')\n",
    "\n",
    "from text_functions_new_vocabs_ac import new_column_lemmatizer, new_column_stemmatizer, new_count_vectorize_data, new_tfidf_vectorize_data\n",
    "\n",
    "\n",
    "from matplotlib import pyplot as plt\n",
    "\n",
    "from sklearn.metrics import make_scorer, accuracy_score, precision_score, recall_score, f1_score, r2_score, mean_squared_error, classification_report\n",
    "from sklearn.model_selection import cross_val_predict, cross_val_score, cross_validate, GridSearchCV, train_test_split\n",
    "\n",
    "from scipy.stats import linregress\n",
    "\n",
    "from tensorflow.keras.callbacks import EarlyStopping\n",
    "from tensorflow.keras.layers import Input, Dense, Dropout, Flatten, Conv2D, MaxPooling2D, Activation\n",
    "from tensorflow.keras.models import Model, Sequential\n",
    "from tensorflow.keras.datasets import mnist, cifar10 \n",
    "from tensorflow.keras.utils import to_categorical\n",
    "\n",
    "import numpy as np\n",
    "import pandas as pd\n",
    "import seaborn as sns\n",
    "%matplotlib inline"
   ]
  },
  {
   "cell_type": "code",
   "execution_count": 2,
   "metadata": {},
   "outputs": [
    {
     "name": "stdout",
     "output_type": "stream",
     "text": [
      "train has 43043 records.\n",
      "test has 18447 records.\n",
      "datasets are joined to make one dataset again of length 61490\n",
      "X_train shape (43043, 44300)\n",
      "X_test shape (18447, 44300)\n",
      "y_train shape (43043, 6)\n",
      "y_test shape (18447, 6)\n"
     ]
    }
   ],
   "source": [
    "# import data\n",
    "train = pd.read_csv('../../../data/processed/train.csv')\n",
    "test = pd.read_csv('../../../data/processed/test.csv')\n",
    "\n",
    "full_df = pd.concat([train, test], axis = 0)\n",
    "\n",
    "print(f'train has {len(train)} records.')\n",
    "print(f'test has {len(test)} records.')\n",
    "\n",
    "print(f'datasets are joined to make one dataset again of length {len(full_df)}')\n",
    "\n",
    "features = full_df['reviewText']\n",
    "target = full_df['overall']\n",
    "\n",
    "feature_tokens = new_column_lemmatizer(features)\n",
    "\n",
    "feature_vectors = new_count_vectorize_data(feature_tokens)\n",
    "\n",
    "feature_vector_array = feature_vectors[0].toarray()\n",
    "\n",
    "normalised_array = feature_vector_array / np.max(feature_vector_array)\n",
    "\n",
    "target_one_hot = to_categorical(target)\n",
    "\n",
    "X_train = normalised_array[:43043, :]\n",
    "X_test = normalised_array[43043:, :]\n",
    "y_train = target_one_hot[:43043]\n",
    "y_test = target_one_hot[43043:]\n",
    "\n",
    "print(f'X_train shape {X_train.shape}')\n",
    "print(f'X_test shape {X_test.shape}')\n",
    "print(f'y_train shape {y_train.shape}')\n",
    "print(f'y_test shape {y_test.shape}')"
   ]
  },
  {
   "cell_type": "code",
   "execution_count": 3,
   "metadata": {},
   "outputs": [
    {
     "data": {
      "text/plain": [
       "0    1    2    3    4    5  \n",
       "0.0  0.0  0.0  0.0  0.0  1.0    8340\n",
       "     1.0  0.0  0.0  0.0  0.0    4774\n",
       "     0.0  0.0  0.0  1.0  0.0    2580\n",
       "               1.0  0.0  0.0    1477\n",
       "          1.0  0.0  0.0  0.0    1276\n",
       "Name: count, dtype: int64"
      ]
     },
     "execution_count": 3,
     "metadata": {},
     "output_type": "execute_result"
    }
   ],
   "source": [
    "df = pd.DataFrame(y_test)\n",
    "\n",
    "df.value_counts()"
   ]
  },
  {
   "cell_type": "code",
   "execution_count": 4,
   "metadata": {},
   "outputs": [
    {
     "name": "stdout",
     "output_type": "stream",
     "text": [
      "Model: \"model\"\n",
      "_________________________________________________________________\n",
      " Layer (type)                Output Shape              Param #   \n",
      "=================================================================\n",
      " Input (InputLayer)          [(None, 44300)]           0         \n",
      "                                                                 \n",
      " Dense_1 (Dense)             (None, 512)               22682112  \n",
      "                                                                 \n",
      " Dense_2 (Dense)             (None, 256)               131328    \n",
      "                                                                 \n",
      " Dense_3 (Dense)             (None, 128)               32896     \n",
      "                                                                 \n",
      " Dense_4 (Dense)             (None, 64)                8256      \n",
      "                                                                 \n",
      " Dense_5 (Dense)             (None, 32)                2080      \n",
      "                                                                 \n",
      " Dense_6 (Dense)             (None, 16)                528       \n",
      "                                                                 \n",
      " Dense_7 (Dense)             (None, 8)                 136       \n",
      "                                                                 \n",
      " Output (Dense)              (None, 6)                 54        \n",
      "                                                                 \n",
      "=================================================================\n",
      "Total params: 22857390 (87.19 MB)\n",
      "Trainable params: 22857390 (87.19 MB)\n",
      "Non-trainable params: 0 (0.00 Byte)\n",
      "_________________________________________________________________\n"
     ]
    },
    {
     "data": {
      "text/plain": [
       "None"
      ]
     },
     "metadata": {},
     "output_type": "display_data"
    }
   ],
   "source": [
    "inputs = Input(shape=(44300), name = 'Input')\n",
    "\n",
    "output_length, output_units = y_train.shape\n",
    "\n",
    "dense1 = Dense(units=512, activation='relu', name='Dense_1')\n",
    "dense2 = Dense(units=256, activation='relu', name='Dense_2')\n",
    "dense3 = Dense(units=128, activation='relu', name='Dense_3')\n",
    "dense4 = Dense(units=64, activation='relu', name='Dense_4')\n",
    "dense5 = Dense(units=32, activation='relu', name='Dense_5')\n",
    "dense6 = Dense(units=16, activation='relu', name='Dense_6')\n",
    "dense7 = Dense(units=8, activation='relu', name='Dense_7')\n",
    "\n",
    "output = Dense(units=output_units, activation='softmax', name='Output')\n",
    "\n",
    "x = dense1(inputs)\n",
    "x = dense2(x)\n",
    "x = dense3(x)\n",
    "x = dense4(x)\n",
    "x = dense5(x)\n",
    "x = dense6(x)\n",
    "x = dense7(x)\n",
    "outputs = output(x)\n",
    "\n",
    "model = Model(inputs=inputs, outputs=outputs)\n",
    "\n",
    "display(model.summary())"
   ]
  },
  {
   "cell_type": "code",
   "execution_count": 5,
   "metadata": {},
   "outputs": [
    {
     "name": "stdout",
     "output_type": "stream",
     "text": [
      "Epoch 1/10\n",
      "1346/1346 [==============================] - 107s 79ms/step - loss: 1.0325 - accuracy: 0.6158 - val_loss: 0.9149 - val_accuracy: 0.6583\n",
      "Epoch 2/10\n",
      "1346/1346 [==============================] - 99s 74ms/step - loss: 0.7956 - accuracy: 0.6998 - val_loss: 0.9281 - val_accuracy: 0.6576\n",
      "Epoch 3/10\n",
      "1346/1346 [==============================] - 98s 73ms/step - loss: 0.6570 - accuracy: 0.7512 - val_loss: 1.0012 - val_accuracy: 0.6604\n",
      "Epoch 4/10\n",
      "1346/1346 [==============================] - 99s 73ms/step - loss: 0.5039 - accuracy: 0.8145 - val_loss: 1.2378 - val_accuracy: 0.6182\n",
      "Epoch 5/10\n",
      "1346/1346 [==============================] - 98s 73ms/step - loss: 0.3811 - accuracy: 0.8629 - val_loss: 1.4383 - val_accuracy: 0.6274\n",
      "Epoch 6/10\n",
      "1346/1346 [==============================] - 98s 73ms/step - loss: 0.2769 - accuracy: 0.9008 - val_loss: 1.7390 - val_accuracy: 0.6411\n",
      "Epoch 7/10\n",
      "1346/1346 [==============================] - 99s 74ms/step - loss: 0.2175 - accuracy: 0.9224 - val_loss: 1.9694 - val_accuracy: 0.5786\n",
      "Epoch 8/10\n",
      "1346/1346 [==============================] - 99s 74ms/step - loss: 0.1657 - accuracy: 0.9418 - val_loss: 2.1567 - val_accuracy: 0.5934\n",
      "Epoch 9/10\n",
      "1346/1346 [==============================] - 100s 74ms/step - loss: 0.1339 - accuracy: 0.9539 - val_loss: 2.4695 - val_accuracy: 0.6088\n",
      "Epoch 10/10\n",
      "1346/1346 [==============================] - 99s 74ms/step - loss: 0.1113 - accuracy: 0.9604 - val_loss: 2.8219 - val_accuracy: 0.5796\n"
     ]
    },
    {
     "data": {
      "text/plain": [
       "<keras.src.callbacks.History at 0x212800b1310>"
      ]
     },
     "execution_count": 5,
     "metadata": {},
     "output_type": "execute_result"
    }
   ],
   "source": [
    "model.compile(optimizer='adam', loss='categorical_crossentropy', metrics=['accuracy'])\n",
    "\n",
    "model.fit(X_train, y_train, epochs=10, batch_size=32, validation_data=(X_test, y_test))"
   ]
  },
  {
   "cell_type": "code",
   "execution_count": 12,
   "metadata": {},
   "outputs": [
    {
     "name": "stdout",
     "output_type": "stream",
     "text": [
      "577/577 [==============================] - 5s 9ms/step\n"
     ]
    },
    {
     "data": {
      "text/html": [
       "<div>\n",
       "<style scoped>\n",
       "    .dataframe tbody tr th:only-of-type {\n",
       "        vertical-align: middle;\n",
       "    }\n",
       "\n",
       "    .dataframe tbody tr th {\n",
       "        vertical-align: top;\n",
       "    }\n",
       "\n",
       "    .dataframe thead th {\n",
       "        text-align: right;\n",
       "    }\n",
       "</style>\n",
       "<table border=\"1\" class=\"dataframe\">\n",
       "  <thead>\n",
       "    <tr style=\"text-align: right;\">\n",
       "      <th>Predicted</th>\n",
       "      <th>1</th>\n",
       "      <th>2</th>\n",
       "      <th>3</th>\n",
       "      <th>4</th>\n",
       "      <th>5</th>\n",
       "    </tr>\n",
       "    <tr>\n",
       "      <th>Real</th>\n",
       "      <th></th>\n",
       "      <th></th>\n",
       "      <th></th>\n",
       "      <th></th>\n",
       "      <th></th>\n",
       "    </tr>\n",
       "  </thead>\n",
       "  <tbody>\n",
       "    <tr>\n",
       "      <th>1</th>\n",
       "      <td>2921</td>\n",
       "      <td>870</td>\n",
       "      <td>479</td>\n",
       "      <td>157</td>\n",
       "      <td>347</td>\n",
       "    </tr>\n",
       "    <tr>\n",
       "      <th>2</th>\n",
       "      <td>395</td>\n",
       "      <td>322</td>\n",
       "      <td>273</td>\n",
       "      <td>135</td>\n",
       "      <td>151</td>\n",
       "    </tr>\n",
       "    <tr>\n",
       "      <th>3</th>\n",
       "      <td>200</td>\n",
       "      <td>209</td>\n",
       "      <td>477</td>\n",
       "      <td>335</td>\n",
       "      <td>256</td>\n",
       "    </tr>\n",
       "    <tr>\n",
       "      <th>4</th>\n",
       "      <td>119</td>\n",
       "      <td>104</td>\n",
       "      <td>386</td>\n",
       "      <td>1047</td>\n",
       "      <td>924</td>\n",
       "    </tr>\n",
       "    <tr>\n",
       "      <th>5</th>\n",
       "      <td>290</td>\n",
       "      <td>146</td>\n",
       "      <td>389</td>\n",
       "      <td>1590</td>\n",
       "      <td>5925</td>\n",
       "    </tr>\n",
       "  </tbody>\n",
       "</table>\n",
       "</div>"
      ],
      "text/plain": [
       "Predicted     1    2    3     4     5\n",
       "Real                                 \n",
       "1          2921  870  479   157   347\n",
       "2           395  322  273   135   151\n",
       "3           200  209  477   335   256\n",
       "4           119  104  386  1047   924\n",
       "5           290  146  389  1590  5925"
      ]
     },
     "metadata": {},
     "output_type": "display_data"
    },
    {
     "name": "stdout",
     "output_type": "stream",
     "text": [
      "1 and 2 are often confused\n",
      "1 and 3 are often confused\n",
      "1 and 4 are often confused\n",
      "1 and 5 are often confused\n",
      "2 and 1 are often confused\n",
      "2 and 3 are often confused\n",
      "2 and 5 are often confused\n",
      "3 and 1 are often confused\n",
      "3 and 2 are often confused\n",
      "3 and 4 are often confused\n",
      "3 and 5 are often confused\n",
      "4 and 3 are often confused\n",
      "4 and 5 are often confused\n",
      "5 and 1 are often confused\n",
      "5 and 3 are often confused\n",
      "5 and 4 are often confused\n"
     ]
    }
   ],
   "source": [
    "y_pred_10 = model.predict(X_test)\n",
    "\n",
    "y_test_class = np.argmax(y_test, axis=1)\n",
    "y_pred_10_class = np.argmax(y_pred_10, axis=1)\n",
    "\n",
    "cnf_matrix_10 = pd.crosstab(y_test_class, y_pred_10_class, rownames=['Real'], colnames=['Predicted'])\n",
    "\n",
    "display(cnf_matrix_10)\n",
    "\n",
    "cnf_array_10 = np.asarray(cnf_matrix_10)\n",
    "\n",
    "for i in range(cnf_array_10.shape[0]):\n",
    "    for j in range(cnf_array_10.shape[1]):\n",
    "        pred = cnf_array_10[i]\n",
    "        val = pred[j]\n",
    "        if val > 150 and i != j:\n",
    "            print(f'{i+1} and {j+1} are often confused')"
   ]
  },
  {
   "cell_type": "code",
   "execution_count": 13,
   "metadata": {},
   "outputs": [
    {
     "name": "stdout",
     "output_type": "stream",
     "text": [
      "              precision    recall  f1-score   support\n",
      "\n",
      "           1       0.74      0.61      0.67      4774\n",
      "           2       0.20      0.25      0.22      1276\n",
      "           3       0.24      0.32      0.27      1477\n",
      "           4       0.32      0.41      0.36      2580\n",
      "           5       0.78      0.71      0.74      8340\n",
      "\n",
      "    accuracy                           0.58     18447\n",
      "   macro avg       0.46      0.46      0.45     18447\n",
      "weighted avg       0.62      0.58      0.60     18447\n",
      "\n"
     ]
    }
   ],
   "source": [
    "print(classification_report(y_test_class, y_pred_10_class))"
   ]
  }
 ],
 "metadata": {
  "kernelspec": {
   "display_name": "Python 3",
   "language": "python",
   "name": "python3"
  },
  "language_info": {
   "codemirror_mode": {
    "name": "ipython",
    "version": 3
   },
   "file_extension": ".py",
   "mimetype": "text/x-python",
   "name": "python",
   "nbconvert_exporter": "python",
   "pygments_lexer": "ipython3",
   "version": "3.11.4"
  }
 },
 "nbformat": 4,
 "nbformat_minor": 2
}
