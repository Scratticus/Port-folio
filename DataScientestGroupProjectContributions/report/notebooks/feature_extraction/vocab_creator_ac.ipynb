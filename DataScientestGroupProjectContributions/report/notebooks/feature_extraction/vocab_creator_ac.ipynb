{
 "cells": [
  {
   "cell_type": "code",
   "execution_count": 1,
   "metadata": {},
   "outputs": [],
   "source": [
    "import pandas as pd\n",
    "import numpy as np\n",
    "import pickle\n",
    "from tqdm import tqdm\n",
    "from sklearn.feature_extraction.text import CountVectorizer\n",
    "from sklearn.linear_model import LinearRegression\n",
    "from sklearn.model_selection import train_test_split\n",
    "from sklearn.model_selection import StratifiedKFold\n",
    "from scipy.sparse import csr_matrix\n",
    "import gensim\n",
    "from sklearn.feature_selection import RFE, RFECV\n",
    "from sklearn.ensemble import RandomForestClassifier\n",
    "import csv\n",
    "\n",
    "import sys\n",
    "sys.path.append('../notebooks/data_cleaning/lem_stem_functions')\n",
    "\n",
    "from text_functions_new_vocabs_ac import new_column_lemmatizer, new_column_stemmatizer, new_count_vectorize_data, new_tfidf_vectorize_data"
   ]
  },
  {
   "cell_type": "code",
   "execution_count": 2,
   "metadata": {},
   "outputs": [],
   "source": [
    "df = pd.read_json(\"../../../data/raw/Appliances.json\", lines = True)\n",
    "df = df.dropna(subset='reviewText')\n",
    "\n",
    "with open('full_vocab_list.csv') as file:\n",
    "    header_list_string = file.read().strip()\n",
    "    header_list = header_list_string.split(',')\n",
    "\n",
    "features = df['reviewText']\n",
    "target = df['overall']\n",
    "\n",
    "lemmed_features = new_column_lemmatizer(features)\n",
    "\n",
    "vectored_features = new_count_vectorize_data(lemmed_features)\n"
   ]
  },
  {
   "cell_type": "code",
   "execution_count": 3,
   "metadata": {},
   "outputs": [],
   "source": [
    "# best_rf_model = RandomForestClassifier(max_depth=None, min_samples_leaf=1, min_samples_split=2, n_estimators=200, n_jobs=-1)\n",
    "regressor = LinearRegression()\n",
    "\n",
    "rfecv = RFECV(estimator=regressor, step=1, cv=StratifiedKFold(10), scoring='neg_mean_squared_error')\n",
    "\n",
    "rfecv.fit(vectored_features, target)"
   ]
  },
  {
   "cell_type": "code",
   "execution_count": null,
   "metadata": {},
   "outputs": [],
   "source": [
    "import matplotlib.pyplot as plt\n",
    "\n",
    "plt.figure()\n",
    "plt.xlabel(\"Number of features selected\")\n",
    "plt.ylabel(\"Cross-validation score (neg_mean_squared_error)\")\n",
    "plt.plot(range(1, len(rfecv.cv_results_['mean_test_score']) + 1), rfecv.cv_results_['mean_test_score'])\n",
    "plt.show()"
   ]
  },
  {
   "cell_type": "code",
   "execution_count": null,
   "metadata": {},
   "outputs": [],
   "source": [
    "rankings = pd.DataFrame({\"Ranking\": rfecv.ranking_, \"Feature\": header_list})\n",
    "rankings = rankings.sort_values(by=\"Ranking\")\n",
    "ranked_importance_df = rankings[rankings[\"Ranking\"] < 51].copy()\n",
    "ranked_importance01 = ranked_importance_df[\"Feature\"].tolist()\n",
    "len(ranked_importance01)"
   ]
  },
  {
   "cell_type": "code",
   "execution_count": null,
   "metadata": {},
   "outputs": [],
   "source": [
    "rankings[\"Ranking\"].max()"
   ]
  },
  {
   "cell_type": "code",
   "execution_count": null,
   "metadata": {},
   "outputs": [],
   "source": [
    "features02 = df['reviewText'].iloc[150000:300000]\n",
    "target02 = df['overall'].iloc[150000:300000]\n",
    "\n",
    "lemmed_features02 = new_column_stemmatizer(features02)\n",
    "\n",
    "vectored_features02 = new_count_vectorize_data(lemmed_features02)\n",
    "\n",
    "# Make a dataframe for machine learning\n",
    "# total_features02 = pd.DataFrame(vectored_features02.toarray(), columns=vectorizer.get_feature_names_out())\n",
    "total_features_sparse02 = pd.DataFrame.sparse.from_spmatrix(vectored_features02, columns=header_list)\n",
    "\n",
    "# print(total_features02.shape)\n",
    "# print(target02.shape)"
   ]
  },
  {
   "cell_type": "code",
   "execution_count": null,
   "metadata": {},
   "outputs": [],
   "source": [
    "regressor02 = LinearRegression()\n",
    "\n",
    "rfecv02 = RFECV(estimator=regressor02, step=1, cv=StratifiedKFold(3), scoring='neg_mean_squared_error')\n",
    "\n",
    "rfecv02.fit(vectored_features02, target02)"
   ]
  },
  {
   "cell_type": "code",
   "execution_count": null,
   "metadata": {},
   "outputs": [],
   "source": [
    "import matplotlib.pyplot as plt\n",
    "\n",
    "plt.figure()\n",
    "plt.xlabel(\"Number of features selected\")\n",
    "plt.ylabel(\"Cross-validation score (neg_mean_squared_error)\")\n",
    "plt.plot(range(1, len(rfecv02.cv_results_['mean_test_score']) + 1), rfecv02.cv_results_['mean_test_score'])\n",
    "plt.show()"
   ]
  },
  {
   "cell_type": "code",
   "execution_count": null,
   "metadata": {},
   "outputs": [],
   "source": [
    "rankings02 = pd.DataFrame({\"Ranking\": rfecv02.ranking_, \"Feature\": header_list})\n",
    "rankings02 = rankings02.sort_values(by=\"Ranking\")\n",
    "ranked02_importance_df = rankings02[rankings02[\"Ranking\"] < 3].copy()\n",
    "ranked_importance02 = ranked02_importance_df[\"Feature\"].tolist()\n",
    "len(ranked_importance02)"
   ]
  },
  {
   "cell_type": "code",
   "execution_count": null,
   "metadata": {},
   "outputs": [],
   "source": [
    "rankings02[\"Ranking\"].max()"
   ]
  },
  {
   "cell_type": "code",
   "execution_count": null,
   "metadata": {},
   "outputs": [],
   "source": [
    "features03 = df['reviewText'].iloc[300000:450000]\n",
    "target03 = df['overall'].iloc[300000:450000]\n",
    "\n",
    "lemmed_features03 = new_column_stemmatizer(features03)\n",
    "\n",
    "vectored_features03 = new_count_vectorize_data(lemmed_features03)\n",
    "\n",
    "# Make a dataframe for machine learning\n",
    "# total_features03 = pd.DataFrame(vectored_features03.toarray(), columns=vectorizer.get_feature_names_out())\n",
    "total_features_sparse03 = pd.DataFrame.sparse.from_spmatrix(vectored_features03, columns=header_list)\n",
    "\n",
    "# print(total_features03.shape)\n",
    "# print(target03.shape)"
   ]
  },
  {
   "cell_type": "code",
   "execution_count": null,
   "metadata": {},
   "outputs": [],
   "source": [
    "regressor03 = LinearRegression()\n",
    "\n",
    "rfecv03 = RFECV(estimator=regressor03, step=1, cv=StratifiedKFold(3), scoring='neg_mean_squared_error')\n",
    "\n",
    "rfecv03.fit(vectored_features03, target03)"
   ]
  },
  {
   "cell_type": "code",
   "execution_count": null,
   "metadata": {},
   "outputs": [],
   "source": [
    "import matplotlib.pyplot as plt\n",
    "\n",
    "plt.figure()\n",
    "plt.xlabel(\"Number of features selected\")\n",
    "plt.ylabel(\"Cross-validation score (neg_mean_squared_error)\")\n",
    "plt.plot(range(1, len(rfecv03.cv_results_['mean_test_score']) + 1), rfecv03.cv_results_['mean_test_score'])\n",
    "plt.show()"
   ]
  },
  {
   "cell_type": "code",
   "execution_count": null,
   "metadata": {},
   "outputs": [],
   "source": [
    "rankings03 = pd.DataFrame({\"Ranking\": rfecv03.ranking_, \"Feature\": header_list})\n",
    "rankings03 = rankings03.sort_values(by=\"Ranking\")\n",
    "ranked03_importance_df = rankings03[rankings03[\"Ranking\"] < 51].copy()\n",
    "ranked_importance03 = ranked03_importance_df[\"Feature\"].tolist()\n",
    "len(ranked_importance03)"
   ]
  },
  {
   "cell_type": "code",
   "execution_count": null,
   "metadata": {},
   "outputs": [],
   "source": [
    "rankings03[\"Ranking\"].max()"
   ]
  },
  {
   "cell_type": "code",
   "execution_count": null,
   "metadata": {},
   "outputs": [],
   "source": [
    "features04 = df['reviewText'].iloc[450000:]\n",
    "target04 = df['overall'].iloc[450000:]\n",
    "\n",
    "lemmed_features04 = new_column_stemmatizer(features04)\n",
    "\n",
    "vectored_features04 = new_count_vectorize_data(lemmed_features04)\n",
    "\n",
    "# Make a dataframe for machine learning\n",
    "# total_features04 = pd.DataFrame(vectored_features04.toarray(), columns=vectorizer.get_feature_names_out())\n",
    "\n",
    "# print(total_features04.shape)\n",
    "# print(target04.shape)"
   ]
  },
  {
   "cell_type": "code",
   "execution_count": null,
   "metadata": {},
   "outputs": [],
   "source": [
    "regressor04 = LinearRegression()\n",
    "\n",
    "rfecv04 = RFECV(estimator=regressor04, step=1, cv=StratifiedKFold(3), scoring='neg_mean_squared_error')\n",
    "\n",
    "rfecv04.fit(vectored_features04, target04)"
   ]
  },
  {
   "cell_type": "code",
   "execution_count": null,
   "metadata": {},
   "outputs": [],
   "source": [
    "import matplotlib.pyplot as plt\n",
    "\n",
    "plt.figure()\n",
    "plt.xlabel(\"Number of features selected\")\n",
    "plt.ylabel(\"Cross-validation score (neg_mean_squared_error)\")\n",
    "plt.plot(range(1, len(rfecv04.cv_results_['mean_test_score']) + 1), rfecv04.cv_results_['mean_test_score'])\n",
    "plt.show()"
   ]
  },
  {
   "cell_type": "code",
   "execution_count": null,
   "metadata": {},
   "outputs": [],
   "source": [
    "rankings04 = pd.DataFrame({\"Ranking\": rfecv04.ranking_, \"Feature\": header_list})\n",
    "rankings04 = rankings04.sort_values(by=\"Ranking\")\n",
    "ranked04_importance_df = rankings04[rankings04[\"Ranking\"] < 31].copy()\n",
    "ranked_importance04 = ranked04_importance_df[\"Feature\"].tolist()\n",
    "len(ranked_importance04)"
   ]
  },
  {
   "cell_type": "code",
   "execution_count": null,
   "metadata": {},
   "outputs": [],
   "source": [
    "rankings04[\"Ranking\"].max()"
   ]
  },
  {
   "cell_type": "code",
   "execution_count": null,
   "metadata": {},
   "outputs": [],
   "source": [
    "total_importance = []\n",
    "total_importance.extend(ranked_importance01)\n",
    "total_importance.extend(ranked_importance02)\n",
    "total_importance.extend(ranked_importance03)\n",
    "total_importance.extend(ranked_importance04)\n",
    "\n",
    "total_importance = list(set(total_importance))\n",
    "\n",
    "print(len(total_importance))"
   ]
  },
  {
   "cell_type": "code",
   "execution_count": null,
   "metadata": {},
   "outputs": [],
   "source": [
    "features_full_imp = df['reviewText']\n",
    "target_full_imp = df['overall']\n",
    "\n",
    "lemmed_features_full_imp = new_column_stemmatizer(features_full_imp)\n",
    "\n",
    "vectored_features_full_imp = new_count_vectorize_data(lemmed_features_full_imp)"
   ]
  },
  {
   "cell_type": "code",
   "execution_count": null,
   "metadata": {},
   "outputs": [],
   "source": [
    "regressor_full_imp = LinearRegression()\n",
    "\n",
    "rfecv_full_imp = RFECV(estimator=regressor_full_imp, step=100, cv=StratifiedKFold(3), verbose=2)\n",
    "\n",
    "rfecv_full_imp.fit(vectored_features_full_imp, target_full_imp)"
   ]
  },
  {
   "cell_type": "code",
   "execution_count": null,
   "metadata": {},
   "outputs": [],
   "source": [
    "import matplotlib.pyplot as plt\n",
    "\n",
    "plt.figure()\n",
    "plt.xlabel(\"Number of features selected\")\n",
    "plt.ylabel(\"Cross-validation score (neg_mean_squared_error)\")\n",
    "plt.plot(range(1, len(rfecv_full_imp.cv_results_['mean_test_score']) + 1), rfecv_full_imp.cv_results_['mean_test_score'])\n",
    "plt.show()"
   ]
  },
  {
   "cell_type": "code",
   "execution_count": null,
   "metadata": {},
   "outputs": [],
   "source": [
    "rankings_full_imp = pd.DataFrame({\"Ranking\": rfecv_full_imp.ranking_, \"Feature\": header_list})\n",
    "rankings_full_imp = rankings_full_imp.sort_values(by=\"Ranking\")\n",
    "ranked_full_importance_df = rankings_full_imp[rankings_full_imp[\"Ranking\"] < 51].copy()\n",
    "ranked_importance_full = ranked_full_importance_df[\"Feature\"].tolist()\n",
    "len(ranked_importance_full)"
   ]
  }
 ],
 "metadata": {
  "kernelspec": {
   "display_name": "Python 3",
   "language": "python",
   "name": "python3"
  },
  "language_info": {
   "codemirror_mode": {
    "name": "ipython",
    "version": 3
   },
   "file_extension": ".py",
   "mimetype": "text/x-python",
   "name": "python",
   "nbconvert_exporter": "python",
   "pygments_lexer": "ipython3",
   "version": "3.11.4"
  }
 },
 "nbformat": 4,
 "nbformat_minor": 2
}
