{
 "cells": [
  {
   "cell_type": "code",
   "execution_count": 15,
   "metadata": {},
   "outputs": [],
   "source": [
    "import csv\n",
    "import pandas as pd\n",
    "import numpy as np\n",
    "\n",
    "from sklearn.feature_selection import RFE\n",
    "from sklearn.model_selection import StratifiedKFold"
   ]
  },
  {
   "cell_type": "code",
   "execution_count": 16,
   "metadata": {},
   "outputs": [],
   "source": [
    "with open('../../../data/processed/Q1_best_features.csv', 'r') as file:\n",
    "    reader = csv.reader(file)\n",
    "    Q1_best_features = next(reader)\n",
    "\n",
    "with open('../../../data/processed/Q2_best_features.csv', 'r') as file:\n",
    "    reader = csv.reader(file)\n",
    "    Q2_best_features = next(reader)\n",
    "\n",
    "with open('../../../data/processed/Q3_best_features.csv', 'r') as file:\n",
    "    reader = csv.reader(file)\n",
    "    Q3_best_features = next(reader)\n",
    "\n",
    "with open('../../../data/processed/Q4_best_features.csv', 'r') as file:\n",
    "    reader = csv.reader(file)\n",
    "    Q4_best_features = next(reader)"
   ]
  },
  {
   "cell_type": "code",
   "execution_count": 17,
   "metadata": {},
   "outputs": [],
   "source": [
    "all_best_features = Q1_best_features + Q2_best_features + Q3_best_features + Q4_best_features\n",
    "set_best_features = list(set(all_best_features))"
   ]
  },
  {
   "cell_type": "code",
   "execution_count": 18,
   "metadata": {},
   "outputs": [],
   "source": [
    "with open('best_features_list.csv', 'w', newline='') as file:\n",
    "    writer = csv.writer(file)\n",
    "    writer.writerow(set_best_features)"
   ]
  },
  {
   "cell_type": "code",
   "execution_count": 19,
   "metadata": {},
   "outputs": [
    {
     "name": "stdout",
     "output_type": "stream",
     "text": [
      "3934\n"
     ]
    }
   ],
   "source": [
    "print(len(set_best_features))"
   ]
  }
 ],
 "metadata": {
  "kernelspec": {
   "display_name": "Python 3",
   "language": "python",
   "name": "python3"
  },
  "language_info": {
   "codemirror_mode": {
    "name": "ipython",
    "version": 3
   },
   "file_extension": ".py",
   "mimetype": "text/x-python",
   "name": "python",
   "nbconvert_exporter": "python",
   "pygments_lexer": "ipython3",
   "version": "3.11.4"
  }
 },
 "nbformat": 4,
 "nbformat_minor": 2
}
